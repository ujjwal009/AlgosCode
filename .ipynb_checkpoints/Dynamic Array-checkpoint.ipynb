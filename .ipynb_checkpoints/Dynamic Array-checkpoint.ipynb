{
 "cells": [
  {
   "cell_type": "code",
   "execution_count": 4,
   "metadata": {
    "collapsed": false
   },
   "outputs": [
    {
     "name": "stdout",
     "output_type": "stream",
     "text": [
      "0 64\n",
      "1 96\n",
      "2 96\n",
      "3 96\n",
      "4 96\n",
      "5 128\n",
      "6 128\n",
      "7 128\n",
      "8 128\n",
      "9 192\n"
     ]
    }
   ],
   "source": [
    "import sys\n",
    "\n",
    "n =10\n",
    "\n",
    "data = []\n",
    "\n",
    "for i in range(n):\n",
    "    \n",
    "    a = len(data)\n",
    "    \n",
    "    b = sys.getsizeof(data)\n",
    "    \n",
    "    print(a, b)\n",
    "    \n",
    "    data.append(n)\n",
    "    "
   ]
  },
  {
   "cell_type": "code",
   "execution_count": null,
   "metadata": {
    "collapsed": true
   },
   "outputs": [],
   "source": []
  }
 ],
 "metadata": {
  "kernelspec": {
   "display_name": "Python 3",
   "language": "python",
   "name": "python3"
  },
  "language_info": {
   "codemirror_mode": {
    "name": "ipython",
    "version": 3
   },
   "file_extension": ".py",
   "mimetype": "text/x-python",
   "name": "python",
   "nbconvert_exporter": "python",
   "pygments_lexer": "ipython3",
   "version": "3.5.1"
  }
 },
 "nbformat": 4,
 "nbformat_minor": 0
}
