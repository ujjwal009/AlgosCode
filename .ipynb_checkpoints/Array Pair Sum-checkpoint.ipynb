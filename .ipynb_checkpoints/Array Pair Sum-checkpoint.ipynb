{
 "cells": [
  {
   "cell_type": "code",
   "execution_count": 14,
   "metadata": {
    "collapsed": false
   },
   "outputs": [],
   "source": [
    "def array_pair_sum(sq , tot):\n",
    "    count= 0\n",
    "    x =0\n",
    "    for x in range(len(sq)-1):\n",
    "        y = x+1\n",
    "        for y in range(len(sq)):\n",
    "            if sq[x] + sq[y] == tot:\n",
    "                print(sq[x] , sq[y])\n",
    "        "
   ]
  },
  {
   "cell_type": "code",
   "execution_count": 15,
   "metadata": {
    "collapsed": true
   },
   "outputs": [],
   "source": [
    "arr_ip = [5,10,20,30,15,25,40,50,60]\n",
    "s = 50"
   ]
  },
  {
   "cell_type": "code",
   "execution_count": 16,
   "metadata": {
    "collapsed": false
   },
   "outputs": [
    {
     "name": "stdout",
     "output_type": "stream",
     "text": [
      "10 40\n",
      "20 30\n",
      "30 20\n",
      "25 25\n",
      "40 10\n"
     ]
    }
   ],
   "source": [
    "array_pair_sum(arr_ip , s)"
   ]
  },
  {
   "cell_type": "code",
   "execution_count": null,
   "metadata": {
    "collapsed": true
   },
   "outputs": [],
   "source": []
  }
 ],
 "metadata": {
  "kernelspec": {
   "display_name": "Python 3",
   "language": "python",
   "name": "python3"
  },
  "language_info": {
   "codemirror_mode": {
    "name": "ipython",
    "version": 3
   },
   "file_extension": ".py",
   "mimetype": "text/x-python",
   "name": "python",
   "nbconvert_exporter": "python",
   "pygments_lexer": "ipython3",
   "version": "3.5.1"
  }
 },
 "nbformat": 4,
 "nbformat_minor": 0
}
